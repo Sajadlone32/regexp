{
 "cells": [
  {
   "cell_type": "markdown",
   "id": "5cdef954",
   "metadata": {},
   "source": [
    "# Assignment 1 regex (Regular Expressions)"
   ]
  },
  {
   "cell_type": "markdown",
   "id": "19a11202",
   "metadata": {},
   "source": [
    "# Question 1"
   ]
  },
  {
   "cell_type": "code",
   "execution_count": 110,
   "id": "71a0f922",
   "metadata": {},
   "outputs": [],
   "source": [
    "\n",
    "import re\n",
    "txt=\"a room without books is like a body without soul\"\n",
    "s=re.sub(\"[ .,]\",\":\",txt)"
   ]
  },
  {
   "cell_type": "code",
   "execution_count": 113,
   "id": "1e3263c2",
   "metadata": {},
   "outputs": [
    {
     "name": "stdout",
     "output_type": "stream",
     "text": [
      "a:room:without:books:is:like:a:body:without:soul\n"
     ]
    }
   ],
   "source": [
    "print(s)"
   ]
  },
  {
   "cell_type": "code",
   "execution_count": 40,
   "id": "499d5f35",
   "metadata": {},
   "outputs": [],
   "source": []
  },
  {
   "cell_type": "markdown",
   "id": "15208378",
   "metadata": {},
   "source": [
    "# QUESTION 2"
   ]
  },
  {
   "cell_type": "code",
   "execution_count": 109,
   "id": "191ed4a9",
   "metadata": {},
   "outputs": [
    {
     "name": "stdout",
     "output_type": "stream",
     "text": [
      "['room', 'like']\n"
     ]
    }
   ],
   "source": [
    "import re\n",
    "\n",
    "text = \"a room without books is like a body without soul\"\n",
    "\n",
    "list = re.findall(\"[rl]\\w+\", text)\n",
    "\n",
    "print(list)"
   ]
  },
  {
   "cell_type": "markdown",
   "id": "25dfeaa9",
   "metadata": {},
   "source": [
    "# QUESTION 3"
   ]
  },
  {
   "cell_type": "code",
   "execution_count": 51,
   "id": "396bc011",
   "metadata": {},
   "outputs": [],
   "source": [
    "import re\n",
    "\n",
    "p=re.compile(r\"\\b\\w{5}\\b\")"
   ]
  },
  {
   "cell_type": "code",
   "execution_count": 114,
   "id": "f0a5a4e8",
   "metadata": {},
   "outputs": [],
   "source": [
    "r=p.findall(\"a room without books is like a body without soul\")"
   ]
  },
  {
   "cell_type": "code",
   "execution_count": 115,
   "id": "b2a43d91",
   "metadata": {},
   "outputs": [
    {
     "name": "stdout",
     "output_type": "stream",
     "text": [
      "['books']\n"
     ]
    }
   ],
   "source": [
    "print(r)\n"
   ]
  },
  {
   "cell_type": "markdown",
   "id": "6e496b67",
   "metadata": {},
   "source": [
    "\n",
    "# QUESTION 4"
   ]
  },
  {
   "cell_type": "code",
   "execution_count": 117,
   "id": "6c031365",
   "metadata": {},
   "outputs": [
    {
     "name": "stdout",
     "output_type": "stream",
     "text": [
      "['room', 'books', 'like', 'body', 'soul']\n"
     ]
    }
   ],
   "source": [
    "import re\n",
    "\n",
    "def myfunc(my_str):\n",
    "    my_pat=r\"\\b\\w{3,5}\\b\"\n",
    "    patt=re.compile(my_pat)\n",
    "    print(patt.findall(my_str))\n",
    "    \n",
    "\n",
    "my_str=\"a room without books is like a body without soul\"\n",
    "myfunc(my_str)   "
   ]
  },
  {
   "cell_type": "markdown",
   "id": "b50057de",
   "metadata": {},
   "source": [
    "# question 5"
   ]
  },
  {
   "cell_type": "code",
   "execution_count": 170,
   "id": "1babb844",
   "metadata": {},
   "outputs": [
    {
     "name": "stdout",
     "output_type": "stream",
     "text": [
      "example.com \n",
      " hr@fliprobo.com \n",
      " github.com \n",
      " Hello Data Science World \n",
      " Data Scientist\n"
     ]
    }
   ],
   "source": [
    "import re\n",
    "txt1=\"example (.com)\"\n",
    "txt2=\"hr@fliprobo (.com)\"\n",
    "txt3=\"github (.com)\"\n",
    "txt4=\"Hello (Data Science World)\"\n",
    "txt5=\"Data (Scientist)\"\n",
    "\n",
    "my_pat1=re.sub(r\"[\\s()]\", \"\",txt1)\n",
    "my_pat2=re.sub(r\"[\\s+()]\", \"\",txt2)\n",
    "my_pat3=re.sub(r\"[\\s+()]\", \"\",txt3)\n",
    "my_pat4=re.sub(r\"[()]\", \"\",txt4)\n",
    "my_pat5=re.sub(r\"[()]\", \"\",txt5) \n",
    "\n",
    "print(my_pat1,\"\\n\",my_pat2,\"\\n\",my_pat3,\"\\n\",my_pat4,\"\\n\",my_pat5)\n"
   ]
  },
  {
   "cell_type": "code",
   "execution_count": 160,
   "id": "cc8e5019",
   "metadata": {},
   "outputs": [
    {
     "name": "stdout",
     "output_type": "stream",
     "text": [
      "example.com\n"
     ]
    }
   ],
   "source": [
    "print(my_ex)"
   ]
  },
  {
   "cell_type": "markdown",
   "id": "890d6e97",
   "metadata": {},
   "source": [
    "# question 6"
   ]
  },
  {
   "cell_type": "code",
   "execution_count": 189,
   "id": "8a9676ed",
   "metadata": {},
   "outputs": [
    {
     "name": "stdout",
     "output_type": "stream",
     "text": [
      "example ,hr@fliprobo , github , Hello , Data \n"
     ]
    }
   ],
   "source": [
    "import re\n",
    "txt=open('file2.txt').read()\n",
    "\n",
    "my_pat1=re.sub(\"\\(.*?\\)\", \"\",txt)\n",
    "\n",
    "\n",
    "print(my_pat1)\n"
   ]
  },
  {
   "cell_type": "markdown",
   "id": "8070f536",
   "metadata": {},
   "source": [
    "# Question 7"
   ]
  },
  {
   "cell_type": "code",
   "execution_count": 207,
   "id": "0ffa57b7",
   "metadata": {},
   "outputs": [
    {
     "name": "stdout",
     "output_type": "stream",
     "text": [
      "['Importance', 'Of', 'Regular', 'Expressions', 'In', 'Python']\n"
     ]
    }
   ],
   "source": [
    "import re\n",
    "txt=\"ImportanceOfRegularExpressionsInPython\"\n",
    "r = re.findall('[A-Z][^A-Z]*', txt)\n",
    "print(r)"
   ]
  },
  {
   "cell_type": "markdown",
   "id": "91a0df67",
   "metadata": {},
   "source": [
    "# Question 8"
   ]
  },
  {
   "cell_type": "code",
   "execution_count": 839,
   "id": "e130cf72",
   "metadata": {},
   "outputs": [
    {
     "name": "stdout",
     "output_type": "stream",
     "text": [
      "RegularExpression 1IsAn 2ImportantTopic 3InPython\n"
     ]
    }
   ],
   "source": [
    "import re\n",
    "str2=\"\"\n",
    "def my_func(str1):\n",
    "        str2=re.sub(r\"(\\w)([0-9])\", r\"\\1 \\2\", str1)\n",
    "        print(str2)\n",
    "\n",
    "str1=\"RegularExpression1IsAn2ImportantTopic3InPython\"\n",
    "my_func(str1)\n"
   ]
  },
  {
   "cell_type": "markdown",
   "id": "668d036d",
   "metadata": {},
   "source": [
    "# quiestion 9"
   ]
  },
  {
   "cell_type": "code",
   "execution_count": 323,
   "id": "9337623b",
   "metadata": {},
   "outputs": [
    {
     "name": "stdout",
     "output_type": "stream",
     "text": [
      "Regular Expression 1Is An 2Important Topic 3In Python\n"
     ]
    }
   ],
   "source": [
    "import re\n",
    "str2=\"\"\n",
    "def my_func(str1):\n",
    "        str2=re.sub(r\"(\\w)([A-Z0-9])\", r\"\\1 \\2\", str1)\n",
    "        print(str2)\n",
    "\n",
    "str1=\"RegularExpression1IsAn2ImportantTopic3InPython\"\n",
    "my_func(str1)\n"
   ]
  },
  {
   "cell_type": "markdown",
   "id": "977d914d",
   "metadata": {},
   "source": [
    "question 10"
   ]
  },
  {
   "cell_type": "code",
   "execution_count": 328,
   "id": "eef0e942",
   "metadata": {},
   "outputs": [
    {
     "name": "stdout",
     "output_type": "stream",
     "text": [
      "['xyz@domain.com', 'xyz.abc@sdomain.domain.com.', 'hr@fliprobo.com']\n"
     ]
    }
   ],
   "source": [
    "import re\n",
    "str1=open('file2.txt').read()\n",
    "\n",
    "email = re.findall(r\"[A-Za-z0-9_%+-.]+\"\n",
    "                 r\"@[A-Za-z0-9.-]+\",str1)\n",
    " \n",
    "\n",
    "print(email)"
   ]
  },
  {
   "cell_type": "markdown",
   "id": "fdad08af",
   "metadata": {},
   "source": [
    "# question 11"
   ]
  },
  {
   "cell_type": "code",
   "execution_count": 844,
   "id": "9a14218a",
   "metadata": {},
   "outputs": [
    {
     "name": "stdout",
     "output_type": "stream",
     "text": [
      "Not matched!\n",
      "Found a match!\n"
     ]
    }
   ],
   "source": [
    "import re\n",
    "\n",
    "def my_func(str1):\n",
    "        ptrn = '^[a-zA-Z0-9_]*$'\n",
    "        if re.search(ptrn,  str1):\n",
    "                return 'Found a match!'\n",
    "        else:\n",
    "                return('Not matched!')\n",
    "\n",
    "print(my_func(\"a room without books is like a body without soul\"))\n",
    "print(my_func(\"A_room_Without_Books\"))\n",
    "\n"
   ]
  },
  {
   "cell_type": "code",
   "execution_count": 344,
   "id": "08d31e9d",
   "metadata": {},
   "outputs": [
    {
     "name": "stdout",
     "output_type": "stream",
     "text": [
      "Not matched!\n",
      "Not matched!\n"
     ]
    }
   ],
   "source": [
    "import re\n",
    "def my_func(str1):\n",
    "        pat = '^[a-zA-Z0-9_]*$'\n",
    "        if re.search(pat,  str1):\n",
    "                return 'Found a match!'\n",
    "        else:\n",
    "                return('Not matched!')\n",
    "\n",
    "print(my_func(\"a room without books is like a body without soul\"))\n",
    "print(my_func(\"A room without books_is like a body_without soul_1\"))"
   ]
  },
  {
   "cell_type": "code",
   "execution_count": 845,
   "id": "7a945ac0",
   "metadata": {},
   "outputs": [
    {
     "name": "stdout",
     "output_type": "stream",
     "text": [
      "Not matched!\n",
      "Found a match!\n"
     ]
    }
   ],
   "source": [
    "import re\n",
    "\n",
    "def my_func(str1):\n",
    "        ptrn = '^[a-zA-Z0-9_]*$'\n",
    "        if re.search(ptrn,  str1):\n",
    "                return 'Found a match!'\n",
    "        else:\n",
    "                return('Not matched!')\n",
    "\n",
    "print(my_func(\"a room without books is like a body without soul\"))\n",
    "print(my_func(\"A_room_Without_Books\"))\n",
    "\n"
   ]
  },
  {
   "cell_type": "markdown",
   "id": "a292ea26",
   "metadata": {},
   "source": [
    "# question 12"
   ]
  },
  {
   "cell_type": "code",
   "execution_count": 372,
   "id": "b078b152",
   "metadata": {},
   "outputs": [
    {
     "name": "stdout",
     "output_type": "stream",
     "text": [
      "True\n",
      "False\n",
      "False\n",
      "True\n"
     ]
    }
   ],
   "source": [
    "import re\n",
    "def my_str(str1):\n",
    "    text = re.compile(r\"3\")\n",
    "    if text.match(str1):\n",
    "        return True\n",
    "    else:\n",
    "        return False\n",
    "print(my_str('3-89898997'))\n",
    "print(my_str('6-2345861'))\n",
    "print(my_str('6-7987897897'))\n",
    "print(my_str('3-98787897'))"
   ]
  },
  {
   "cell_type": "markdown",
   "id": "bbb7cf23",
   "metadata": {},
   "source": [
    "\n",
    "# Question 13"
   ]
  },
  {
   "cell_type": "code",
   "execution_count": 377,
   "id": "97158f38",
   "metadata": {},
   "outputs": [
    {
     "name": "stdout",
     "output_type": "stream",
     "text": [
      "192.68.43.100\n"
     ]
    }
   ],
   "source": [
    "import re\n",
    "ipaddr = \"192.068.043.100\"\n",
    "string = re.sub('\\.[0]*', '.', ipaddr)\n",
    "print(string)\n",
    "\n"
   ]
  },
  {
   "cell_type": "code",
   "execution_count": 378,
   "id": "afcb7895",
   "metadata": {},
   "outputs": [
    {
     "name": "stdout",
     "output_type": "stream",
     "text": [
      "216.8.94.196\n"
     ]
    }
   ],
   "source": [
    "import re\n",
    "ip = \"216.08.094.196\"\n",
    "string = re.sub('\\.[0]*', '.', ip)\n",
    "print(string)\n"
   ]
  },
  {
   "cell_type": "markdown",
   "id": "60e04dbd",
   "metadata": {},
   "source": [
    "# question 14"
   ]
  },
  {
   "cell_type": "code",
   "execution_count": 656,
   "id": "213f3ff2",
   "metadata": {},
   "outputs": [
    {
     "name": "stdout",
     "output_type": "stream",
     "text": [
      "<re.Match object; span=(3, 19), match='August 15th 1947'>\n"
     ]
    }
   ],
   "source": [
    "\n",
    "import re\n",
    "\n",
    "mystr=open(\"datefile.txt\").read()\n",
    "#patt=re.compile(r\"\\bAugust\\s\\d{2}\\th\")\n",
    "patt=re.compile(r\"(January|February|March|April|May|June|July|August|September|October|November|December)\\s[0-9a-z]{4}\\s\\d{4}\")\n",
    "matches=patt.finditer(mystr)\n",
    "for i in matches:\n",
    "    print(i)\n",
    "    \n",
    "\n",
    "    \n",
    "\n"
   ]
  },
  {
   "cell_type": "markdown",
   "id": "65605df9",
   "metadata": {},
   "source": [
    "question 15"
   ]
  },
  {
   "cell_type": "code",
   "execution_count": 484,
   "id": "bcf07a39",
   "metadata": {},
   "outputs": [
    {
     "name": "stdout",
     "output_type": "stream",
     "text": [
      "found\n",
      "found\n",
      "Not found\n"
     ]
    }
   ],
   "source": [
    "import re\n",
    "pattern = [ 'fox', 'dog', 'horse' ]\n",
    "str1= 'The quick brown fox jumps over the lazy dog.'\n",
    "for pattern in patterns:\n",
    "    if re.search(pattern,  str1):\n",
    "        print('found')\n",
    "    else:\n",
    "        print('Not found')"
   ]
  },
  {
   "cell_type": "markdown",
   "id": "37ba658d",
   "metadata": {},
   "source": [
    "# Question 16"
   ]
  },
  {
   "cell_type": "code",
   "execution_count": 682,
   "id": "87db1a93",
   "metadata": {},
   "outputs": [
    {
     "name": "stdout",
     "output_type": "stream",
     "text": [
      "Found... from 26 to 30 \n"
     ]
    }
   ],
   "source": [
    "import re\n",
    "pattern = 'fox'\n",
    "str1 = 'The quick brown fox jumps over the lazy dog.'\n",
    "match = re.search(pattern, str1)\n",
    "s = match.start()\n",
    "e = match.end()\n",
    "print('Found... from %d to %d ' % \\\n",
    "    (s, e))"
   ]
  },
  {
   "cell_type": "markdown",
   "id": "89f5761c",
   "metadata": {},
   "source": [
    "# Question 17"
   ]
  },
  {
   "cell_type": "code",
   "execution_count": 512,
   "id": "57b3a5c4",
   "metadata": {},
   "outputs": [
    {
     "name": "stdout",
     "output_type": "stream",
     "text": [
      "Found \"books\"\n"
     ]
    }
   ],
   "source": [
    "import re\n",
    "str1 = \"a room without books is like a body without soul\"\n",
    "pat = \"books\"\n",
    "for i in re.findall(pat, str1):\n",
    "    print('Found \"%s\"' % i)"
   ]
  },
  {
   "cell_type": "markdown",
   "id": "af5aabe0",
   "metadata": {},
   "source": [
    "# Question 18"
   ]
  },
  {
   "cell_type": "code",
   "execution_count": 521,
   "id": "dc2118a3",
   "metadata": {},
   "outputs": [
    {
     "name": "stdout",
     "output_type": "stream",
     "text": [
      "Found \"books\" at 15:20\n"
     ]
    }
   ],
   "source": [
    "import re\n",
    "str1 = \"a room without books is like a body without soul\"\n",
    "pat = \"books\"\n",
    "for i in re.finditer(pat, str1):\n",
    "    s_index = i.start()\n",
    "    e_index = i.end()\n",
    "    print('Found \"%s\" at %d:%d' % (str1[s_index:e_index], s_index, e_index))"
   ]
  },
  {
   "cell_type": "markdown",
   "id": "44cfd9b3",
   "metadata": {},
   "source": [
    "# question 19"
   ]
  },
  {
   "cell_type": "code",
   "execution_count": 528,
   "id": "f8825d0f",
   "metadata": {},
   "outputs": [
    {
     "name": "stdout",
     "output_type": "stream",
     "text": [
      "Year format : YYY-MM-DD Format:  2023-10-05\n",
      " Day Format:DD-MM-YYYY  05-10-2023\n"
     ]
    }
   ],
   "source": [
    "import re\n",
    "date=\"2023-10-05\"\n",
    "new_date= re.sub(r'(\\d{4})-(\\d{1,2})-(\\d{1,2})', '\\\\3-\\\\2-\\\\1', date)\n",
    "\n",
    "print(\"Year format : YYY-MM-DD Format: \",date)\n",
    "print(\" Day Format:DD-MM-YYYY \",new_date)"
   ]
  },
  {
   "cell_type": "markdown",
   "id": "bbb4e7b0",
   "metadata": {},
   "source": [
    "# Question 20"
   ]
  },
  {
   "cell_type": "code",
   "execution_count": 546,
   "id": "e6cc8bdd",
   "metadata": {},
   "outputs": [
    {
     "name": "stdout",
     "output_type": "stream",
     "text": [
      "True\n",
      "False\n",
      "False\n",
      "True\n",
      "True\n",
      "True\n"
     ]
    }
   ],
   "source": [
    "##Sample Text: \"01.12 0132.123 2.31875 145.8 3.01 27.25 0.25\"\n",
    "def decimal_chk(num):\n",
    "    import re\n",
    "    num1 = re.compile(r\"^[0-9]+(\\.[0-9]{1,2})?$\")\n",
    "    result = num1.search(num)\n",
    "    return bool (result)\n",
    "\n",
    "print(decimal_chk('01.12'))\n",
    "print(decimal_chk('0123.123'))\n",
    "print(decimal_chk('2.31875'))\n",
    "print(decimal_chk('3.01'))\n",
    "print(decimal_chk('27.25'))\n",
    "print(decimal_chk('0.25'))\n",
    "\n"
   ]
  },
  {
   "cell_type": "markdown",
   "id": "85634149",
   "metadata": {},
   "source": [
    "# QUESTION 21"
   ]
  },
  {
   "cell_type": "code",
   "execution_count": 553,
   "id": "4b1478bc",
   "metadata": {},
   "outputs": [
    {
     "name": "stdout",
     "output_type": "stream",
     "text": [
      "Index position: 60\n",
      "100\n"
     ]
    }
   ],
   "source": [
    "import re\n",
    "\n",
    "str1 = \"a room without books is like a body without soul, there are 100 booke in my room of computer science\"\n",
    "for i in re.finditer(\"\\d+\", str1):\n",
    "    print(\"Index position:\", i.start())\n",
    "    print(i.group(0))"
   ]
  },
  {
   "cell_type": "markdown",
   "id": "0bc06802",
   "metadata": {},
   "source": [
    "# QUESTION 22"
   ]
  },
  {
   "cell_type": "code",
   "execution_count": 569,
   "id": "4b9c9012",
   "metadata": {},
   "outputs": [
    {
     "name": "stdout",
     "output_type": "stream",
     "text": [
      "Max_value: 950\n"
     ]
    }
   ],
   "source": [
    "import re\n",
    "\n",
    "string= \"My marks in each semester are: 947, 896, 926, 524, 734, 950, 642\"\n",
    "\n",
    "num = re.findall('\\d+', string)\n",
    "print(\"Max_value:\",max(num))"
   ]
  },
  {
   "cell_type": "markdown",
   "id": "c2313be9",
   "metadata": {},
   "source": [
    "# Question 23"
   ]
  },
  {
   "cell_type": "code",
   "execution_count": 749,
   "id": "d618d7ab",
   "metadata": {},
   "outputs": [
    {
     "name": "stdout",
     "output_type": "stream",
     "text": [
      "RegularExpressionIsAnImportantTopicInPython\n"
     ]
    }
   ],
   "source": [
    "import re\n",
    "str1=\"RegularExpressionIsAnImportantTopicInPython\"\n",
    "new_str=re.sub(r\"(\\w)([A-Z])\", r\"\\1 \\2\", str1)\n",
    "print(new_str)"
   ]
  },
  {
   "cell_type": "markdown",
   "id": "60f74dba",
   "metadata": {},
   "source": [
    "# Question 24"
   ]
  },
  {
   "cell_type": "code",
   "execution_count": 660,
   "id": "bd77af5f",
   "metadata": {},
   "outputs": [
    {
     "name": "stdout",
     "output_type": "stream",
     "text": [
      "Found..\n",
      "Not Found...\n",
      "Found..\n",
      "Found..\n"
     ]
    }
   ],
   "source": [
    "import re\n",
    "def my_func(text):\n",
    "        patterns = '[A-Z]+[a-z]+$'\n",
    "        if re.search(patterns, text):\n",
    "                return 'Found..'\n",
    "        else:\n",
    "                return('Not Found...')\n",
    "print(my_func(\"Apple\"))\n",
    "print(my_func(\"apple\"))\n",
    "print(my_func(\"Orange\"))\n",
    "print(my_func(\"oRange\"))\n"
   ]
  },
  {
   "cell_type": "markdown",
   "id": "f35774b8",
   "metadata": {},
   "source": [
    "# Question 25"
   ]
  },
  {
   "cell_type": "code",
   "execution_count": 675,
   "id": "b8f22c8a",
   "metadata": {},
   "outputs": [
    {
     "name": "stdout",
     "output_type": "stream",
     "text": [
      "Original String:\n",
      "Hello hello world world\n",
      "\n",
      "After removing:\n",
      "['Hello', 'hello', 'world', 'world']\n",
      "['Hello', 'hello', 'world']\n"
     ]
    }
   ],
   "source": [
    "def my_func(str1):\n",
    "    l = str1.split()\n",
    "    print(l)\n",
    "    temp = []\n",
    "    for x in l:\n",
    "        if x not in temp:\n",
    "            temp.append(x)\n",
    "    return temp\n",
    "\n",
    "str1 = \"Hello hello world world\"\n",
    "print(\"Original String:\")\n",
    "print(str1)\n",
    "print(\"\\nAfter removing:\")\n",
    "print(my_func(str1))"
   ]
  },
  {
   "cell_type": "markdown",
   "id": "e3306ea7",
   "metadata": {},
   "source": [
    "# Question 25"
   ]
  },
  {
   "cell_type": "code",
   "execution_count": 681,
   "id": "c968064e",
   "metadata": {},
   "outputs": [
    {
     "name": "stdout",
     "output_type": "stream",
     "text": [
      "The string is :\n",
      "Python@\n",
      "The string doesnot end with alphanumeric character\n",
      "\n",
      "The string is :\n",
      "Python1245\n",
      "The string ends with alphanumeric character\n"
     ]
    }
   ],
   "source": [
    "import re\n",
    "\n",
    "patt = '[a-zA-z0-9]$'\n",
    "\n",
    "def chk_string(str1):\n",
    "\n",
    "   if(re.search(patt, str1)):\n",
    "      print(\"The string ends with alphanumeric character\")\n",
    "\n",
    "   else:\n",
    "\n",
    "      print(\"The string doesnot end with alphanumeric character\")\n",
    "\n",
    "\n",
    "str1 = \"Python@\"\n",
    "print(\"The string is :\")\n",
    "print(str1)\n",
    "chk_string(str1)\n",
    "\n",
    "str2 = \"Python1245\"\n",
    "print(\"\\nThe string is :\")\n",
    "print(str2)\n",
    "chk_string(str2)"
   ]
  },
  {
   "cell_type": "markdown",
   "id": "0a12f4a5",
   "metadata": {},
   "source": [
    "# Question 26"
   ]
  },
  {
   "cell_type": "code",
   "execution_count": 697,
   "id": "681d849b",
   "metadata": {},
   "outputs": [
    {
     "name": "stdout",
     "output_type": "stream",
     "text": [
      "Found \"['exercises', 'exercises', 'exercises']\"\n"
     ]
    }
   ],
   "source": [
    "import re\n",
    "str1=\"Python exercises, PHP exercises, C# exercises\"\n",
    "pattern=\"exercises\"\n",
    "match=re.findall(pattern,str1)\n",
    "if match:\n",
    "   print('Found \"%s\"' % match)\n",
    "else:\n",
    "    print(\"not found\")"
   ]
  },
  {
   "cell_type": "code",
   "execution_count": null,
   "id": "774cb8f4",
   "metadata": {},
   "outputs": [],
   "source": []
  },
  {
   "cell_type": "markdown",
   "id": "f6bb5c0f",
   "metadata": {},
   "source": [
    "# Question 26"
   ]
  },
  {
   "cell_type": "code",
   "execution_count": 721,
   "id": "674fcc25",
   "metadata": {},
   "outputs": [
    {
     "name": "stdout",
     "output_type": "stream",
     "text": [
      "found\n",
      "found\n",
      "found\n",
      "not found\n",
      "found\n"
     ]
    }
   ],
   "source": [
    "import re\n",
    "\n",
    "patt=\"[A-Za-z0-9]$\"\n",
    "def my_func(str1):\n",
    "    match=re.search(patt,str1)\n",
    "    if match:\n",
    "        print(\"found\")\n",
    "    else:\n",
    "        print(\"not found\")\n",
    "        \n",
    "my_func(\"kashmiri apple\")\n",
    "my_func(\"kashmiri apple1\")\n",
    "my_func(\"kashmiri apple7\")\n",
    "my_func(\"kashmiri apple&\")\n",
    "my_func(\"kashmiri applE\")\n",
    "\n",
    "    \n",
    "    \n",
    "    "
   ]
  },
  {
   "cell_type": "markdown",
   "id": "77e4cdd1",
   "metadata": {},
   "source": [
    "# Question 27"
   ]
  },
  {
   "cell_type": "code",
   "execution_count": 733,
   "id": "0ca16d44",
   "metadata": {},
   "outputs": [
    {
     "name": "stdout",
     "output_type": "stream",
     "text": [
      "['#Doltiwal', '#xyzabc', '#Demonetization']\n"
     ]
    }
   ],
   "source": [
    "import re\n",
    "str1=\"\"\"RT @kapil_kausik: #Doltiwal I mean #xyzabc is \"hurt\" by #Demonetization as the same has rendered USELESS <ed><U+00A0><U+00BD><ed><U+00B1><U+0089> \"acquired funds\" No wo\"\"\"\n",
    "patt=\"\\#[A-Za-z0-9]*\"\n",
    "match=re.findall(patt,str1)\n",
    "print(match)"
   ]
  },
  {
   "cell_type": "markdown",
   "id": "090693b1",
   "metadata": {},
   "source": [
    "# Question 28"
   ]
  },
  {
   "cell_type": "code",
   "execution_count": 789,
   "id": "c796cb40",
   "metadata": {},
   "outputs": [
    {
     "name": "stdout",
     "output_type": "stream",
     "text": [
      "@Jags123456 Bharat band on 28??<ed><ed>Those who  are protesting #demonetization  are all different party leaders\n"
     ]
    }
   ],
   "source": [
    "import re\n",
    "\n",
    "\n",
    "str1=\"@Jags123456 Bharat band on 28??<ed><U+00A0><U+00BD><ed><U+00B8><U+0082>Those who  are protesting #demonetization  are all different party leaders\"\n",
    "##re.sub(r\"(\\w)([A-Z])\", r\"\\1 \\2\", str1)\n",
    "patt =(r\"<U\\+[0-9A-Z]{4}>\")\n",
    "str2 = re.sub(patt,\"\",str1)\n",
    "print(str2)"
   ]
  },
  {
   "cell_type": "code",
   "execution_count": null,
   "id": "54a1a55a",
   "metadata": {},
   "outputs": [],
   "source": [
    "@Jags123456 Bharat band on 28??<ed><ed>Those who  are protesting #demonetization  are all different party leaders"
   ]
  },
  {
   "cell_type": "markdown",
   "id": "01051785",
   "metadata": {},
   "source": [
    "# Question 29"
   ]
  },
  {
   "cell_type": "code",
   "execution_count": 801,
   "id": "756ae5f3",
   "metadata": {},
   "outputs": [
    {
     "name": "stdout",
     "output_type": "stream",
     "text": [
      "['12-09-1992', '15-12-1999']\n"
     ]
    }
   ],
   "source": [
    "import re\n",
    "str1=open(\"datefile2.txt\").read()\n",
    "patt=(r\"\\d{2}-\\d{2}-\\d{4}\")\n",
    "match=re.findall(patt,str1)\n",
    "print(match)"
   ]
  },
  {
   "cell_type": "markdown",
   "id": "a13219b1",
   "metadata": {},
   "source": [
    "# Question 30"
   ]
  },
  {
   "cell_type": "code",
   "execution_count": 803,
   "id": "74ac3389",
   "metadata": {},
   "outputs": [
    {
     "name": "stdout",
     "output_type": "stream",
     "text": [
      "         \n"
     ]
    }
   ],
   "source": [
    "import re\n",
    "text = \"a room without books is like a body without soul\"\n",
    "# remove words between 1 and 3\n",
    "match = re.compile(r'\\w{1,3}')\n",
    "print(match.sub('', text))\n"
   ]
  },
  {
   "cell_type": "code",
   "execution_count": 836,
   "id": "8fd33f2d",
   "metadata": {},
   "outputs": [
    {
     "name": "stdout",
     "output_type": "stream",
     "text": [
      "<callable_iterator object at 0x0000017560E6BA60>\n"
     ]
    }
   ],
   "source": [
    "import re\n",
    "text = \"The quick brown fox jumps over the lazy dog.\"\n",
    "\n",
    "patt= re.compile(r'brown')\n",
    "matches=patt.finditer(text)\n",
    "print(matches)\n"
   ]
  },
  {
   "cell_type": "code",
   "execution_count": 838,
   "id": "33c718f4",
   "metadata": {},
   "outputs": [
    {
     "name": "stdout",
     "output_type": "stream",
     "text": [
      " following example creates ArrayList a capacity elements. 4 elements added ArrayList ArrayList trimmed accordingly.\n",
      "None\n"
     ]
    }
   ],
   "source": [
    "import re\n",
    "def remove_func(str1):\n",
    "    match = re.compile(r'\\W*\\b\\w{2,4}\\b')\n",
    "print(match.sub('', str1))\n",
    "\n",
    "text=\"The following example creates an ArrayList with a capacity of 50 elements. 4 elements are then added to the ArrayList and the ArrayList is trimmed accordingly.\"\n",
    "print(remove_func(text))"
   ]
  },
  {
   "cell_type": "markdown",
   "id": "a7f9558a",
   "metadata": {},
   "source": [
    "# End of Assignment regex"
   ]
  },
  {
   "cell_type": "code",
   "execution_count": null,
   "id": "b415f140",
   "metadata": {},
   "outputs": [],
   "source": []
  }
 ],
 "metadata": {
  "kernelspec": {
   "display_name": "Python 3 (ipykernel)",
   "language": "python",
   "name": "python3"
  },
  "language_info": {
   "codemirror_mode": {
    "name": "ipython",
    "version": 3
   },
   "file_extension": ".py",
   "mimetype": "text/x-python",
   "name": "python",
   "nbconvert_exporter": "python",
   "pygments_lexer": "ipython3",
   "version": "3.10.9"
  }
 },
 "nbformat": 4,
 "nbformat_minor": 5
}
